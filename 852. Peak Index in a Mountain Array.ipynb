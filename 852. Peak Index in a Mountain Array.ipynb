# Binary Search
from typing import List

class Solution:
    def peakIndexInMountainArray(self, arr: List[int]) -> int:
        l_peak = 0
        r_peak = len(arr) - 1
        m = (l_peak + r_peak) // 2
        
        while 1:
            if arr[m] < arr[m + 1]:
                l_peak = m + 1
            elif arr[m] < arr[m - 1]:
                r_peak = m - 1
            else:
                return m
            m = (l_peak + r_peak) // 2
sol = Solution()
print(sol.peakIndexInMountainArray([1,2,3,4,10,5,4,3])