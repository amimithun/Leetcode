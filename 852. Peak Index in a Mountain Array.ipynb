{
 "cells": [
  {
   "cell_type": "markdown",
   "metadata": {},
   "source": [
    "# Problem Category - Binary Search"
   ]
  },
  {
   "cell_type": "code",
   "execution_count": null,
   "metadata": {},
   "outputs": [],
   "source": [
    "from typing import List\n",
    "\n",
    "class Solution:\n",
    "    def peakIndexInMountainArray(self, arr: List[int]) -> int:\n",
    "        l_peak = 0\n",
    "        r_peak = len(arr) - 1\n",
    "        m = (l_peak + r_peak) // 2\n",
    "        \n",
    "        while 1:\n",
    "            if arr[m] < arr[m + 1]:\n",
    "                l_peak = m + 1\n",
    "            elif arr[m] < arr[m - 1]:\n",
    "                r_peak = m - 1\n",
    "            else:\n",
    "                return m\n",
    "            m = (l_peak + r_peak) // 2\n",
    "            \n",
    "sol = Solution()\n",
    "print(sol.peakIndexInMountainArray([1,2,3,4,10,5,4,3]))"
   ]
  }
 ],
 "metadata": {
  "kernelspec": {
   "display_name": "Python 3",
   "language": "python",
   "name": "python3"
  },
  "language_info": {
   "codemirror_mode": {
    "name": "ipython",
    "version": 3
   },
   "file_extension": ".py",
   "mimetype": "text/x-python",
   "name": "python",
   "nbconvert_exporter": "python",
   "pygments_lexer": "ipython3",
   "version": "3.6.5"
  }
 },
 "nbformat": 4,
 "nbformat_minor": 2
}
