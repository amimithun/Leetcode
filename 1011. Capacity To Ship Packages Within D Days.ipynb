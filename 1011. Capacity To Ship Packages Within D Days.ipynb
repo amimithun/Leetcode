{
 "cells": [
  {
   "cell_type": "markdown",
   "metadata": {},
   "source": [
    "# Problem Category - Binary Search"
   ]
  },
  {
   "cell_type": "code",
   "execution_count": null,
   "metadata": {},
   "outputs": [],
   "source": [
    "class Solution:\n",
    "    def shipWithinDays(self, weights: List[int], days: int) -> int:\n",
    "        min_weight = float('inf')\n",
    "        low = max(weights)\n",
    "        high = sum(weights)\n",
    "        mid = (low + high) // 2\n",
    "        rem_days = days\n",
    "        sum_weights = 0\n",
    "        \n",
    "        while low <= high:    \n",
    "            for w in weights:\n",
    "                if sum_weights + w > mid:\n",
    "                    rem_days -= 1                        \n",
    "                    sum_weights = 0\n",
    "                sum_weights += w\n",
    "                \n",
    "            if rem_days <= 0:\n",
    "                low = mid + 1\n",
    "            else:\n",
    "                high = mid - 1\n",
    "                if mid < min_weight:\n",
    "                    min_weight = mid\n",
    "                    \n",
    "            rem_days = days\n",
    "            sum_weights = 0                    \n",
    "            mid = (low + high) // 2\n",
    "            \n",
    "        return min_weight"
   ]
  }
 ],
 "metadata": {
  "kernelspec": {
   "display_name": "Python 3",
   "language": "python",
   "name": "python3"
  },
  "language_info": {
   "codemirror_mode": {
    "name": "ipython",
    "version": 3
   },
   "file_extension": ".py",
   "mimetype": "text/x-python",
   "name": "python",
   "nbconvert_exporter": "python",
   "pygments_lexer": "ipython3",
   "version": "3.6.5"
  }
 },
 "nbformat": 4,
 "nbformat_minor": 2
}
