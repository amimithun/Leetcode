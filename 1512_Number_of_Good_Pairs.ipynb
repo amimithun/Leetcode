{
 "cells": [
  {
   "cell_type": "markdown",
   "metadata": {},
   "source": [
    "# Using hashmap"
   ]
  },
  {
   "cell_type": "code",
   "execution_count": 1,
   "metadata": {},
   "outputs": [
    {
     "name": "stdout",
     "output_type": "stream",
     "text": [
      "8\n"
     ]
    }
   ],
   "source": [
    "from collections import defaultdict\n",
    "from typing import List\n",
    "\n",
    "class Solution:\n",
    "    def numIdenticalPairs(self, nums: List[int]) -> int:\n",
    "        h_map = defaultdict(int)\n",
    "        for num in nums:\n",
    "            h_map[num] += 1\n",
    "        \n",
    "        good_pairs = 0\n",
    "        for num in h_map:\n",
    "            for i in range(1, h_map[num]):\n",
    "                good_pairs += h_map[num] - i\n",
    "        return good_pairs\n",
    "    \n",
    "sol = Solution()\n",
    "print(sol.numIdenticalPairs([1, 2, 3, 1, 1, 1, 3, 2 ]))"
   ]
  },
  {
   "cell_type": "code",
   "execution_count": null,
   "metadata": {},
   "outputs": [],
   "source": []
  }
 ],
 "metadata": {
  "kernelspec": {
   "display_name": "Python 3",
   "language": "python",
   "name": "python3"
  },
  "language_info": {
   "codemirror_mode": {
    "name": "ipython",
    "version": 3
   },
   "file_extension": ".py",
   "mimetype": "text/x-python",
   "name": "python",
   "nbconvert_exporter": "python",
   "pygments_lexer": "ipython3",
   "version": "3.6.5"
  }
 },
 "nbformat": 4,
 "nbformat_minor": 2
}
