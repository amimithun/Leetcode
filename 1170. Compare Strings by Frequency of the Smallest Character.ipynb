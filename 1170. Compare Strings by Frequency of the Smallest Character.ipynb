{
 "cells": [
  {
   "cell_type": "markdown",
   "metadata": {},
   "source": [
    "# Problem category-Binary Search"
   ]
  },
  {
   "cell_type": "code",
   "execution_count": 1,
   "metadata": {},
   "outputs": [
    {
     "name": "stdout",
     "output_type": "stream",
     "text": [
      "[1, 2]\n"
     ]
    }
   ],
   "source": [
    "from typing import List\n",
    "from bisect import bisect_right\n",
    "\n",
    "class Solution:\n",
    "    def find_freq(self, string):\n",
    "        smallest = min(set(string))\n",
    "        freq = string.count(smallest)\n",
    "        return freq\n",
    "        \n",
    "    def numSmallerByFrequency(self, queries: List[str], words: List[str]) -> List[int]:\n",
    "        words_freq = [self.find_freq(w) for w in words]            \n",
    "        queries_freq = [self.find_freq(q) for q in queries]\n",
    "        \n",
    "        answer = [0] * len(queries)\n",
    "        words_freq.sort()\n",
    "        for i, q_freq in enumerate(queries_freq):\n",
    "            pos = bisect_right(words_freq, q_freq)\n",
    "            if pos != len(words_freq):\n",
    "                answer[i] = len(words_freq) - pos\n",
    "                \n",
    "        return answer\n",
    "    \n",
    "sol = Solution()\n",
    "print(sol.numSmallerByFrequency([\"bbb\",\"cc\"], [\"a\",\"aa\",\"aaa\",\"aaaa\"]))"
   ]
  },
  {
   "cell_type": "code",
   "execution_count": null,
   "metadata": {},
   "outputs": [],
   "source": []
  }
 ],
 "metadata": {
  "kernelspec": {
   "display_name": "Python 3",
   "language": "python",
   "name": "python3"
  },
  "language_info": {
   "codemirror_mode": {
    "name": "ipython",
    "version": 3
   },
   "file_extension": ".py",
   "mimetype": "text/x-python",
   "name": "python",
   "nbconvert_exporter": "python",
   "pygments_lexer": "ipython3",
   "version": "3.6.5"
  }
 },
 "nbformat": 4,
 "nbformat_minor": 2
}
