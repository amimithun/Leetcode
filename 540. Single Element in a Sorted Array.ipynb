{
 "cells": [
  {
   "cell_type": "markdown",
   "metadata": {},
   "source": [
    "# Problem Category- Binary Search"
   ]
  },
  {
   "cell_type": "code",
   "execution_count": 2,
   "metadata": {},
   "outputs": [
    {
     "name": "stdout",
     "output_type": "stream",
     "text": [
      "1\n"
     ]
    }
   ],
   "source": [
    "from typing import List\n",
    "\n",
    "class Solution:\n",
    "    def singleNonDuplicate(self, nums: List[int]) -> int:\n",
    "        low = 0\n",
    "        high = len(nums) - 1\n",
    "        mid = (low + high) // 2\n",
    "        \n",
    "        while low <= high:\n",
    "            if low == high:\n",
    "                return nums[mid]\n",
    "            if (nums[mid - 1] != nums[mid]) and (nums[mid] != nums[mid + 1]):\n",
    "                return nums[mid]\n",
    "            if mid % 2 == 1:\n",
    "                if nums[mid] == nums[mid - 1]:\n",
    "                    low = mid + 1\n",
    "                else:\n",
    "                    high = mid - 1\n",
    "            elif mid % 2 == 0:\n",
    "                if nums[mid] == nums[mid + 1]:\n",
    "                    low = mid + 2\n",
    "                else:\n",
    "                    high = mid - 2\n",
    "            mid = (low + high) // 2\n",
    "            \n",
    "sol = Solution()\n",
    "print(sol.singleNonDuplicate([1,2,2]))"
   ]
  },
  {
   "cell_type": "code",
   "execution_count": null,
   "metadata": {},
   "outputs": [],
   "source": []
  }
 ],
 "metadata": {
  "kernelspec": {
   "display_name": "Python 3",
   "language": "python",
   "name": "python3"
  },
  "language_info": {
   "codemirror_mode": {
    "name": "ipython",
    "version": 3
   },
   "file_extension": ".py",
   "mimetype": "text/x-python",
   "name": "python",
   "nbconvert_exporter": "python",
   "pygments_lexer": "ipython3",
   "version": "3.6.5"
  }
 },
 "nbformat": 4,
 "nbformat_minor": 2
}
