{
 "cells": [
  {
   "cell_type": "markdown",
   "metadata": {},
   "source": [
    "# Binary Search"
   ]
  },
  {
   "cell_type": "code",
   "execution_count": 1,
   "metadata": {},
   "outputs": [
    {
     "name": "stdout",
     "output_type": "stream",
     "text": [
      "2\n"
     ]
    }
   ],
   "source": [
    "from bisect import bisect_left\n",
    "from typing import List\n",
    "\n",
    "class Solution:\n",
    "    def maxDistance(self, nums1: List[int], nums2: List[int]) -> int:\n",
    "        nums2_rev = nums2[::-1]\n",
    "        max_distance = 0\n",
    "        \n",
    "        for i, n1 in enumerate(nums1):\n",
    "            high = len(nums2) - 1 - i\n",
    "            try:\n",
    "                pos_in_nums2 = bisect_left(nums2_rev, n1,\n",
    "                                          lo = 0, hi = high)\n",
    "                dis = high - pos_in_nums2\n",
    "                if dis > max_distance:\n",
    "                    max_distance = dis\n",
    "            except:\n",
    "                continue\n",
    "        return max_distance\n",
    "sol = Solution()\n",
    "print(sol.maxDistance([55,30,5,4,2], [100,20,10,10,5]))"
   ]
  }
 ],
 "metadata": {
  "kernelspec": {
   "display_name": "Python 3",
   "language": "python",
   "name": "python3"
  },
  "language_info": {
   "codemirror_mode": {
    "name": "ipython",
    "version": 3
   },
   "file_extension": ".py",
   "mimetype": "text/x-python",
   "name": "python",
   "nbconvert_exporter": "python",
   "pygments_lexer": "ipython3",
   "version": "3.6.5"
  }
 },
 "nbformat": 4,
 "nbformat_minor": 2
}
