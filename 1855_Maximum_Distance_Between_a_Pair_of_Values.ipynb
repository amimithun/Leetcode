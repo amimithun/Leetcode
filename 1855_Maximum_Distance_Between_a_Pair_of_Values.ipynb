{
 "cells": [
  {
   "source": [
    "# Binary Search"
   ],
   "cell_type": "code",
   "metadata": {},
   "execution_count": null,
   "outputs": []
  },
  {
   "source": [
    "# This is an interesting binary search problem to solve. Requires some careful thinking."
   ],
   "cell_type": "code",
   "metadata": {},
   "execution_count": 1,
   "outputs": []
  },
  {
   "cell_type": "code",
   "execution_count": 3,
   "metadata": {},
   "outputs": [],
   "source": [
    "from bisect import bisect_left\n",
    "from typing import List\n",
    "\n",
    "class Solution:\n",
    "    def maxDistance(self, nums1: List[int], nums2: List[int]) -> int:\n",
    "        nums2_rev = nums2[::-1]\n",
    "        max_distance = 0\n",
    "        \n",
    "        for i, n1 in enumerate(nums1):\n",
    "            high = len(nums2) - 1 - i\n",
    "            try:\n",
    "                pos_in_nums2 = bisect_left(nums2_rev, n1,\n",
    "                                          lo = 0, hi = high)\n",
    "                dis = high - pos_in_nums2\n",
    "                if dis > max_distance:\n",
    "                    max_distance = dis\n",
    "            except:\n",
    "                continue\n",
    "        return max_distance\n",
    "sol = Solution()\n",
    "print(sol.maxDistance([55,30,5,4,2], [100,20,10,10,5]))"
   ]
  }
 ],
 "metadata": {
  "kernelspec": {
   "name": "python391jvsc74a57bd0a5f018f4c72b5de08e7cd42fb896675e36e5b87808fcc0d39ee6c736bb234644",
   "display_name": "Python 3.9.1 64-bit"
  },
  "language_info": {
   "codemirror_mode": {
    "name": "ipython",
    "version": 3
   },
   "file_extension": ".py",
   "mimetype": "text/x-python",
   "name": "python",
   "nbconvert_exporter": "python",
   "pygments_lexer": "ipython3",
   "version": "3.9.1"
  },
  "metadata": {
   "interpreter": {
    "hash": "a5f018f4c72b5de08e7cd42fb896675e36e5b87808fcc0d39ee6c736bb234644"
   }
  }
 },
 "nbformat": 4,
 "nbformat_minor": 2
}